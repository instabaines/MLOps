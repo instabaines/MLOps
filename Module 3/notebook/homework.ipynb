{
 "cells": [
  {
   "cell_type": "code",
   "execution_count": 1,
   "metadata": {},
   "outputs": [
    {
     "name": "stderr",
     "output_type": "stream",
     "text": [
      "23:50:32.166 | INFO    | prefect.engine - Created flow run 'tacky-albatross' for flow 'main'\n",
      "23:50:32.167 | INFO    | Flow run 'tacky-albatross' - Using task runner 'SequentialTaskRunner'\n",
      "23:50:32.672 | INFO    | Flow run 'tacky-albatross' - Created task run 'get_paths-6e696e34-0' for task 'get_paths'\n",
      "23:50:33.207 | INFO    | Task run 'get_paths-6e696e34-0' - Finished in state Completed()\n",
      "23:50:33.530 | INFO    | Flow run 'tacky-albatross' - Created task run 'read_data-4c7f9de4-0' for task 'read_data'\n",
      "23:50:44.670 | INFO    | Task run 'read_data-4c7f9de4-0' - Finished in state Completed()\n",
      "23:50:45.010 | INFO    | Flow run 'tacky-albatross' - Created task run 'prepare_features-4ee39d9f-0' for task 'prepare_features'\n",
      "23:50:45.584 | INFO    | Task run 'prepare_features-4ee39d9f-0' - The mean duration of training is 18.230538791569113\n",
      "23:50:58.375 | INFO    | Task run 'prepare_features-4ee39d9f-0' - Finished in state Completed()\n",
      "23:50:58.731 | INFO    | Flow run 'tacky-albatross' - Created task run 'read_data-4c7f9de4-1' for task 'read_data'\n",
      "23:51:10.446 | INFO    | Task run 'read_data-4c7f9de4-1' - Finished in state Completed()\n",
      "23:51:10.818 | INFO    | Flow run 'tacky-albatross' - Created task run 'prepare_features-4ee39d9f-1' for task 'prepare_features'\n",
      "23:51:11.324 | INFO    | Task run 'prepare_features-4ee39d9f-1' - The mean duration of validation is 17.91113046137945\n",
      "23:51:23.936 | INFO    | Task run 'prepare_features-4ee39d9f-1' - Finished in state Completed()\n",
      "23:51:24.384 | INFO    | Flow run 'tacky-albatross' - Created task run 'train_model-7c866860-0' for task 'train_model'\n",
      "23:51:31.913 | INFO    | Task run 'train_model-7c866860-0' - The shape of X_train is (1222031, 525)\n",
      "23:51:31.913 | INFO    | Task run 'train_model-7c866860-0' - The DictVectorizer has 525 features\n",
      "23:51:40.842 | INFO    | Task run 'train_model-7c866860-0' - The MSE of training is: 11.78935367150384\n",
      "23:51:41.323 | INFO    | Task run 'train_model-7c866860-0' - Finished in state Completed()\n",
      "23:51:41.683 | INFO    | Flow run 'tacky-albatross' - Created task run 'run_model-6559300c-0' for task 'run_model'\n",
      "23:51:48.784 | INFO    | Task run 'run_model-6559300c-0' - The MSE of validation is: 11.637031861052277\n",
      "23:51:49.247 | INFO    | Task run 'run_model-6559300c-0' - Finished in state Completed()\n",
      "23:51:49.598 | INFO    | Flow run 'tacky-albatross' - Created task run 'save_model-5b60bdb8-0' for task 'save_model'\n",
      "23:51:50.275 | INFO    | Task run 'save_model-5b60bdb8-0' - Finished in state Completed()\n",
      "23:52:07.952 | INFO    | Flow run 'tacky-albatross' - Finished in state Completed('All states completed.')\n"
     ]
    }
   ],
   "source": [
    "!python ../homework/homework.py"
   ]
  },
  {
   "cell_type": "code",
   "execution_count": 7,
   "metadata": {},
   "outputs": [],
   "source": [
    "import pandas as pd\n",
    "df_train = pd.read_parquet('../data/fhv_tripdata_2021-01.parquet')\n"
   ]
  },
  {
   "cell_type": "markdown",
   "metadata": {},
   "source": []
  },
  {
   "cell_type": "code",
   "execution_count": 2,
   "metadata": {},
   "outputs": [],
   "source": [
    "import pendulum"
   ]
  },
  {
   "cell_type": "code",
   "execution_count": 14,
   "metadata": {},
   "outputs": [
    {
     "data": {
      "text/plain": [
       "'2022-05-10'"
      ]
     },
     "execution_count": 14,
     "metadata": {},
     "output_type": "execute_result"
    }
   ],
   "source": [
    "now=pendulum.now()\n",
    "now.add(months=-1).to_date_string()"
   ]
  },
  {
   "cell_type": "code",
   "execution_count": 20,
   "metadata": {},
   "outputs": [
    {
     "data": {
      "text/plain": [
       "'2021-03-15'"
      ]
     },
     "execution_count": 20,
     "metadata": {},
     "output_type": "execute_result"
    }
   ],
   "source": [
    "dt=\"2021-03-15\".split('-')\n",
    "dt=[int(x) for x in dt]\n",
    "\n",
    "pendulum.datetime(*dt).to_date_string()"
   ]
  },
  {
   "cell_type": "code",
   "execution_count": 32,
   "metadata": {},
   "outputs": [
    {
     "data": {
      "text/plain": [
       "'2022-05'"
      ]
     },
     "execution_count": 32,
     "metadata": {},
     "output_type": "execute_result"
    }
   ],
   "source": [
    "# print(now.subtract(months=1).to_date_string())\n",
    "now.add(months=-1).strftime(\"%Y-%m\")\n"
   ]
  },
  {
   "cell_type": "code",
   "execution_count": 4,
   "metadata": {},
   "outputs": [
    {
     "data": {
      "text/plain": [
       "('../data/fhv_tripdata_2021-01.parquet',\n",
       " '../data/fhv_tripdata_2021-02.parquet')"
      ]
     },
     "execution_count": 4,
     "metadata": {},
     "output_type": "execute_result"
    }
   ],
   "source": [
    "from pendulum import datetime\n",
    "def get_paths(date=None):\n",
    "    if date==None:\n",
    "        date=pendulum.now()\n",
    "        # date=str(date.date())\n",
    "        train_date=date.subtract(months=2).strftime(\"%Y-%m\")\n",
    "        test_date=date.subtract(months=1).strftime(\"%Y-%m\")\n",
    "    else:\n",
    "        dt=date.split('-') if '-' in date else \"date\".split('/')\n",
    "        dt=[int(x) for x in dt]\n",
    "        date=datetime(*dt)\n",
    "        train_date=date.subtract(months=2).strftime(\"%Y-%m\")\n",
    "        test_date=date.subtract(months=1).strftime(\"%Y-%m\")\n",
    "    train_path=f\"../data/fhv_tripdata_{train_date}.parquet\"\n",
    "    test_path=f\"../data/fhv_tripdata_{test_date}.parquet\"\n",
    "\n",
    "    return train_path,test_path\n",
    "get_paths(date=\"2021-03-15\")"
   ]
  },
  {
   "cell_type": "code",
   "execution_count": 30,
   "metadata": {},
   "outputs": [
    {
     "data": {
      "text/plain": [
       "DateTime(2022, 6, 10, 22, 29, 33, 945750, tzinfo=Timezone('Africa/Lagos'))"
      ]
     },
     "execution_count": 30,
     "metadata": {},
     "output_type": "execute_result"
    }
   ],
   "source": [
    "\"fhv_trip_data_2021-02.parquet\""
   ]
  }
 ],
 "metadata": {
  "interpreter": {
   "hash": "3663e17f45ef569a683893811cb8ea214bb208318664a28ff7d020c2a31ba0d6"
  },
  "kernelspec": {
   "display_name": "Python 3.9.12 ('exp-tracking-env')",
   "language": "python",
   "name": "python3"
  },
  "language_info": {
   "codemirror_mode": {
    "name": "ipython",
    "version": 3
   },
   "file_extension": ".py",
   "mimetype": "text/x-python",
   "name": "python",
   "nbconvert_exporter": "python",
   "pygments_lexer": "ipython3",
   "version": "3.9.12"
  },
  "orig_nbformat": 4
 },
 "nbformat": 4,
 "nbformat_minor": 2
}
