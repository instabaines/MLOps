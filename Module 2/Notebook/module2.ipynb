{
 "cells": [
  {
   "cell_type": "markdown",
   "metadata": {},
   "source": [
    "## Question 1 Install MLflow"
   ]
  },
  {
   "cell_type": "code",
   "execution_count": 1,
   "metadata": {},
   "outputs": [
    {
     "name": "stdout",
     "output_type": "stream",
     "text": [
      "mlflow, version 1.26.0\n"
     ]
    }
   ],
   "source": [
    "\n",
    "!mlflow --version"
   ]
  },
  {
   "cell_type": "markdown",
   "metadata": {},
   "source": [
    "## Q2. Download and preprocess the data"
   ]
  },
  {
   "cell_type": "code",
   "execution_count": 3,
   "metadata": {},
   "outputs": [],
   "source": [
    "!python ../preprocess_data.py --raw_data_path ../data --dest_path ../output"
   ]
  },
  {
   "cell_type": "code",
   "execution_count": 4,
   "metadata": {},
   "outputs": [],
   "source": [
    "import os"
   ]
  },
  {
   "cell_type": "markdown",
   "metadata": {},
   "source": [
    "## Q3. Train a model with autolog"
   ]
  },
  {
   "cell_type": "code",
   "execution_count": 22,
   "metadata": {},
   "outputs": [
    {
     "name": "stderr",
     "output_type": "stream",
     "text": [
      "2022/05/29 19:14:57 WARNING mlflow.utils.autologging_utils: You are using an unsupported version of sklearn. If you encounter errors during autologging, try upgrading / downgrading sklearn to a supported version, or try upgrading MLflow.\n",
      "2022/05/29 19:16:08 WARNING mlflow.utils.autologging_utils: MLflow autologging encountered a warning: \"c:\\Users\\Hp\\Anaconda3\\envs\\exp-tracking-env\\lib\\site-packages\\_distutils_hack\\__init__.py:30: UserWarning: Setuptools is replacing distutils.\"\n"
     ]
    }
   ],
   "source": [
    "!python ../train.py --data_path ./output\n"
   ]
  },
  {
   "cell_type": "markdown",
   "metadata": {},
   "source": [
    "## Q5. Tune the hyperparameters of the model"
   ]
  },
  {
   "cell_type": "code",
   "execution_count": 7,
   "metadata": {},
   "outputs": [
    {
     "name": "stdout",
     "output_type": "stream",
     "text": [
      "\n",
      "  0%|          | 0/50 [00:00<?, ?trial/s, best loss=?]\n",
      "  2%|▏         | 1/50 [00:17<14:18, 17.52s/trial, best loss: 6.658956269343007]\n",
      "  4%|▍         | 2/50 [00:21<07:34,  9.47s/trial, best loss: 6.658956269343007]\n",
      "  6%|▌         | 3/50 [00:24<05:13,  6.67s/trial, best loss: 6.658956269343007]\n",
      "  8%|▊         | 4/50 [00:42<08:20, 10.88s/trial, best loss: 6.651438559376775]\n",
      " 10%|█         | 5/50 [00:50<07:30, 10.01s/trial, best loss: 6.651438559376775]\n",
      " 12%|█▏        | 6/50 [01:12<10:14, 13.96s/trial, best loss: 6.651438559376775]\n",
      " 14%|█▍        | 7/50 [01:32<11:28, 16.00s/trial, best loss: 6.651438559376775]\n",
      " 16%|█▌        | 8/50 [01:41<09:35, 13.69s/trial, best loss: 6.651438559376775]\n",
      " 18%|█▊        | 9/50 [01:54<09:22, 13.72s/trial, best loss: 6.651438559376775]\n",
      " 20%|██        | 10/50 [02:06<08:43, 13.10s/trial, best loss: 6.651438559376775]\n",
      " 22%|██▏       | 11/50 [02:17<08:05, 12.44s/trial, best loss: 6.642137287429206]\n",
      " 24%|██▍       | 12/50 [02:25<07:05, 11.20s/trial, best loss: 6.642137287429206]\n",
      " 26%|██▌       | 13/50 [02:30<05:41,  9.24s/trial, best loss: 6.642137287429206]\n",
      " 28%|██▊       | 14/50 [02:47<06:56, 11.57s/trial, best loss: 6.642137287429206]\n",
      " 30%|███       | 15/50 [03:01<07:11, 12.33s/trial, best loss: 6.642137287429206]\n",
      " 32%|███▏      | 16/50 [03:10<06:28, 11.41s/trial, best loss: 6.642137287429206]\n",
      " 34%|███▍      | 17/50 [03:24<06:33, 11.91s/trial, best loss: 6.642137287429206]\n",
      " 36%|███▌      | 18/50 [03:46<07:59, 14.99s/trial, best loss: 6.629728007710133]\n",
      " 38%|███▊      | 19/50 [03:53<06:35, 12.76s/trial, best loss: 6.629728007710133]\n",
      " 40%|████      | 20/50 [03:59<05:17, 10.58s/trial, best loss: 6.629728007710133]\n",
      " 42%|████▏     | 21/50 [04:26<07:31, 15.57s/trial, best loss: 6.629728007710133]\n",
      " 44%|████▍     | 22/50 [04:50<08:24, 18.01s/trial, best loss: 6.629728007710133]\n",
      " 46%|████▌     | 23/50 [05:20<09:49, 21.84s/trial, best loss: 6.629728007710133]\n",
      " 48%|████▊     | 24/50 [05:49<10:24, 24.00s/trial, best loss: 6.629728007710133]\n",
      " 50%|█████     | 25/50 [06:11<09:41, 23.25s/trial, best loss: 6.629728007710133]\n",
      " 52%|█████▏    | 26/50 [06:33<09:06, 22.79s/trial, best loss: 6.629728007710133]\n",
      " 54%|█████▍    | 27/50 [06:48<07:53, 20.59s/trial, best loss: 6.629728007710133]\n",
      " 56%|█████▌    | 28/50 [07:12<07:51, 21.45s/trial, best loss: 6.629728007710133]\n",
      " 58%|█████▊    | 29/50 [07:21<06:13, 17.79s/trial, best loss: 6.629728007710133]\n",
      " 60%|██████    | 30/50 [07:45<06:34, 19.73s/trial, best loss: 6.629728007710133]\n",
      " 62%|██████▏   | 31/50 [07:48<04:40, 14.76s/trial, best loss: 6.629728007710133]\n",
      " 64%|██████▍   | 32/50 [08:03<04:27, 14.87s/trial, best loss: 6.629728007710133]\n",
      " 66%|██████▌   | 33/50 [08:28<05:04, 17.94s/trial, best loss: 6.629728007710133]\n",
      " 68%|██████▊   | 34/50 [09:21<07:34, 28.43s/trial, best loss: 6.6284257482044735]\n",
      " 70%|███████   | 35/50 [09:41<06:25, 25.68s/trial, best loss: 6.6284257482044735]\n",
      " 72%|███████▏  | 36/50 [10:01<05:36, 24.01s/trial, best loss: 6.6284257482044735]\n",
      " 74%|███████▍  | 37/50 [10:04<03:49, 17.68s/trial, best loss: 6.6284257482044735]\n",
      " 76%|███████▌  | 38/50 [10:29<03:59, 19.99s/trial, best loss: 6.6284257482044735]\n",
      " 78%|███████▊  | 39/50 [10:58<04:10, 22.77s/trial, best loss: 6.6284257482044735]\n",
      " 80%|████████  | 40/50 [11:28<04:07, 24.77s/trial, best loss: 6.6284257482044735]\n",
      " 82%|████████▏ | 41/50 [11:37<03:01, 20.18s/trial, best loss: 6.6284257482044735]\n",
      " 84%|████████▍ | 42/50 [11:53<02:31, 18.97s/trial, best loss: 6.6284257482044735]\n",
      " 86%|████████▌ | 43/50 [12:13<02:15, 19.32s/trial, best loss: 6.6284257482044735]\n",
      " 88%|████████▊ | 44/50 [12:40<02:08, 21.38s/trial, best loss: 6.6284257482044735]\n",
      " 90%|█████████ | 45/50 [12:55<01:38, 19.66s/trial, best loss: 6.6284257482044735]\n",
      " 92%|█████████▏| 46/50 [13:03<01:04, 16.11s/trial, best loss: 6.6284257482044735]\n",
      " 94%|█████████▍| 47/50 [13:25<00:53, 17.79s/trial, best loss: 6.6284257482044735]\n",
      " 96%|█████████▌| 48/50 [13:37<00:32, 16.03s/trial, best loss: 6.6284257482044735]\n",
      " 98%|█████████▊| 49/50 [13:56<00:17, 17.06s/trial, best loss: 6.6284257482044735]\n",
      "100%|██████████| 50/50 [14:19<00:00, 18.77s/trial, best loss: 6.6284257482044735]\n",
      "100%|██████████| 50/50 [14:19<00:00, 17.19s/trial, best loss: 6.6284257482044735]\n"
     ]
    }
   ],
   "source": [
    "!python ../hpo.py"
   ]
  },
  {
   "cell_type": "markdown",
   "metadata": {},
   "source": [
    "## Permanently deleting DB"
   ]
  },
  {
   "cell_type": "code",
   "execution_count": null,
   "metadata": {},
   "outputs": [],
   "source": [
    "%load_ext sql\n",
    "%sql sqlite:///homework2.db"
   ]
  },
  {
   "cell_type": "code",
   "execution_count": null,
   "metadata": {},
   "outputs": [],
   "source": [
    "%%sql\n",
    "\n",
    "DELETE FROM experiment_tags WHERE experiment_id in (\n",
    "    SELECT experiment_id FROM experiments where lifecycle_stage='deleted'\n",
    "    );\n",
    "DELETE FROM latest_metrics WHERE run_uuid in (\n",
    "    SELECT run_uuid FROM runs WHERE experiment_id in (\n",
    "        SELECT experiment_id FROM experiments where lifecycle_stage='deleted'\n",
    "    )\n",
    ");\n",
    "DELETE FROM metrics WHERE run_uuid in (\n",
    "    SELECT run_uuid FROM runs WHERE experiment_id in (\n",
    "        SELECT experiment_id FROM experiments where lifecycle_stage='deleted'\n",
    "    )\n",
    ");\n",
    "DELETE FROM tags WHERE run_uuid in (\n",
    "    SELECT run_uuid FROM runs WHERE experiment_id in (\n",
    "        SELECT experiment_id FROM experiments where lifecycle_stage='deleted'\n",
    "    )\n",
    ");\n",
    "DELETE FROM params WHERE run_uuid in (\n",
    "    SELECT run_uuid FROM runs where experiment_id in (\n",
    "        SELECT experiment_id FROM experiments where lifecycle_stage='deleted'\n",
    "));\n",
    "DELETE FROM runs WHERE experiment_id in (\n",
    "    SELECT experiment_id FROM experiments where lifecycle_stage='deleted'\n",
    ");\n",
    "DELETE FROM experiments where lifecycle_stage='deleted';"
   ]
  },
  {
   "cell_type": "code",
   "execution_count": 4,
   "metadata": {},
   "outputs": [
    {
     "data": {
      "text/plain": [
       "'Connected: @homework2.db'"
      ]
     },
     "execution_count": 4,
     "metadata": {},
     "output_type": "execute_result"
    }
   ],
   "source": []
  },
  {
   "cell_type": "markdown",
   "metadata": {},
   "source": [
    "## Q6. Promote the best model to the model registry"
   ]
  },
  {
   "cell_type": "code",
   "execution_count": 21,
   "metadata": {},
   "outputs": [
    {
     "name": "stderr",
     "output_type": "stream",
     "text": [
      "2022/05/29 14:09:52 WARNING mlflow.utils.autologging_utils: You are using an unsupported version of sklearn. If you encounter errors during autologging, try upgrading / downgrading sklearn to a supported version, or try upgrading MLflow.\n",
      "2022/05/29 14:10:28 WARNING mlflow.utils.autologging_utils: MLflow autologging encountered a warning: \"c:\\Users\\Hp\\Anaconda3\\envs\\exp-tracking-env\\lib\\site-packages\\_distutils_hack\\__init__.py:30: UserWarning: Setuptools is replacing distutils.\"\n",
      "Successfully registered model 'random_forest_regressor'.\n",
      "2022/05/29 14:12:35 INFO mlflow.tracking._model_registry.client: Waiting up to 300 seconds for model version to finish creation.                     Model name: random_forest_regressor, version 1\n",
      "Created version '1' of model 'random_forest_regressor'.\n"
     ]
    }
   ],
   "source": [
    "!python ../register_model.py"
   ]
  },
  {
   "cell_type": "code",
   "execution_count": null,
   "metadata": {},
   "outputs": [],
   "source": []
  }
 ],
 "metadata": {
  "interpreter": {
   "hash": "3663e17f45ef569a683893811cb8ea214bb208318664a28ff7d020c2a31ba0d6"
  },
  "kernelspec": {
   "display_name": "Python 3.9.12 ('exp-tracking-env')",
   "language": "python",
   "name": "python3"
  },
  "language_info": {
   "codemirror_mode": {
    "name": "ipython",
    "version": 3
   },
   "file_extension": ".py",
   "mimetype": "text/x-python",
   "name": "python",
   "nbconvert_exporter": "python",
   "pygments_lexer": "ipython3",
   "version": "3.9.12"
  },
  "orig_nbformat": 4
 },
 "nbformat": 4,
 "nbformat_minor": 2
}
